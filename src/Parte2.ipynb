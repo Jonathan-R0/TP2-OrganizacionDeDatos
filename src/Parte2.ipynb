{
 "cells": [
  {
   "cell_type": "markdown",
   "id": "e6e7d769",
   "metadata": {},
   "source": [
    "# Parte 2"
   ]
  },
  {
   "cell_type": "markdown",
   "id": "08eb67aa",
   "metadata": {},
   "source": [
    "## Árboles de Decisión"
   ]
  },
  {
   "cell_type": "markdown",
   "id": "35fbda2a",
   "metadata": {},
   "source": [
    "### Exploración, Preprocesamiento y Transformación de Datos"
   ]
  },
  {
   "cell_type": "markdown",
   "id": "9dae6070",
   "metadata": {},
   "source": [
    "#### Imports"
   ]
  },
  {
   "cell_type": "code",
   "execution_count": 1,
   "id": "7f1a870a",
   "metadata": {},
   "outputs": [],
   "source": [
    "import numpy as np \n",
    "import pandas as pd\n",
    "import re \n",
    "\n",
    "import matplotlib.pyplot as plt\n",
    "import seaborn as sns\n",
    "\n",
    "import os\n",
    "\n",
    "import nltk\n",
    "from nltk.corpus import stopwords\n",
    "from nltk.tokenize import ToktokTokenizer\n",
    "from nltk.stem import SnowballStemmer\n",
    "\n",
    "import eli5\n",
    "\n",
    "from sklearn.model_selection import train_test_split\n",
    "from sklearn.linear_model import LogisticRegression\n",
    "from sklearn.feature_extraction.text import TfidfVectorizer, CountVectorizer\n",
    "from sklearn.model_selection import KFold\n",
    "from sklearn.model_selection import GridSearchCV\n",
    "from sklearn.metrics import f1_score, confusion_matrix\n",
    "from sklearn.naive_bayes import MultinomialNB\n",
    "from sklearn.tree import DecisionTreeClassifier\n",
    "from sklearn.preprocessing import LabelEncoder\n",
    "from sklearn.preprocessing import OneHotEncoder\n",
    "from sklearn.ensemble import RandomForestClassifier\n",
    "\n",
    "from string import punctuation\n",
    "\n",
    "import warnings\n",
    "warnings.simplefilter(action='ignore', category=FutureWarning)\n",
    "\n",
    "import joblib"
   ]
  },
  {
   "cell_type": "markdown",
   "id": "1b95b807",
   "metadata": {},
   "source": [
    "#### Descripción de los Datos"
   ]
  },
  {
   "cell_type": "markdown",
   "id": "ebba2345",
   "metadata": {},
   "source": [
    "#### Variables Faltantes"
   ]
  },
  {
   "cell_type": "markdown",
   "id": "f274b2db",
   "metadata": {},
   "source": [
    "#### Correlaciones con la Cancelación"
   ]
  },
  {
   "cell_type": "markdown",
   "id": "528dadfd",
   "metadata": {},
   "source": [
    "#### Limpieza del Dataset"
   ]
  },
  {
   "cell_type": "markdown",
   "id": "2dfac71b",
   "metadata": {},
   "source": [
    "## Generación y Evaluación de Modelos"
   ]
  },
  {
   "cell_type": "markdown",
   "id": "edebe7f8",
   "metadata": {},
   "source": [
    "### Árbol de Decisión"
   ]
  },
  {
   "cell_type": "markdown",
   "id": "b84f94c0",
   "metadata": {},
   "source": [
    "#### Entrenamiento"
   ]
  },
  {
   "cell_type": "markdown",
   "id": "e18f8eb6",
   "metadata": {},
   "source": [
    "#### Gráfico del Modelo"
   ]
  },
  {
   "cell_type": "markdown",
   "id": "e6f51592",
   "metadata": {},
   "source": [
    "#### Performance Review"
   ]
  },
  {
   "cell_type": "markdown",
   "id": "0fc5a019",
   "metadata": {},
   "source": [
    "### Random Forest"
   ]
  },
  {
   "cell_type": "markdown",
   "id": "37c970e0",
   "metadata": {},
   "source": [
    "#### Entrenamiento"
   ]
  },
  {
   "cell_type": "markdown",
   "id": "b47ce9be",
   "metadata": {},
   "source": [
    "#### Gráfico del Modelo"
   ]
  },
  {
   "cell_type": "markdown",
   "id": "8d039278",
   "metadata": {},
   "source": [
    "#### Performance Review"
   ]
  }
 ],
 "metadata": {
  "kernelspec": {
   "display_name": "Python 3 (ipykernel)",
   "language": "python",
   "name": "python3"
  },
  "language_info": {
   "codemirror_mode": {
    "name": "ipython",
    "version": 3
   },
   "file_extension": ".py",
   "mimetype": "text/x-python",
   "name": "python",
   "nbconvert_exporter": "python",
   "pygments_lexer": "ipython3",
   "version": "3.10.4"
  }
 },
 "nbformat": 4,
 "nbformat_minor": 5
}
